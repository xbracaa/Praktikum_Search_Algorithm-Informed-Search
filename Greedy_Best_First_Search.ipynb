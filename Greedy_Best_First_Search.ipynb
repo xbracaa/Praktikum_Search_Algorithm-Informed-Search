{
  "nbformat": 4,
  "nbformat_minor": 0,
  "metadata": {
    "colab": {
      "provenance": [],
      "authorship_tag": "ABX9TyPSq4Q4nKpprIP/VgTnVFp2",
      "include_colab_link": true
    },
    "kernelspec": {
      "name": "python3",
      "display_name": "Python 3"
    },
    "language_info": {
      "name": "python"
    }
  },
  "cells": [
    {
      "cell_type": "markdown",
      "metadata": {
        "id": "view-in-github",
        "colab_type": "text"
      },
      "source": [
        "<a href=\"https://colab.research.google.com/github/xbracaa/Praktikum_Search_Algorithm-Informed-Search/blob/main/Greedy_Best_First_Search.ipynb\" target=\"_parent\"><img src=\"https://colab.research.google.com/assets/colab-badge.svg\" alt=\"Open In Colab\"/></a>"
      ]
    },
    {
      "cell_type": "markdown",
      "source": [
        "#**Greedy Best First Search**"
      ],
      "metadata": {
        "id": "RB9_WlVg53--"
      }
    },
    {
      "cell_type": "code",
      "execution_count": null,
      "metadata": {
        "colab": {
          "base_uri": "https://localhost:8080/"
        },
        "id": "QTe6-Fe549ml",
        "outputId": "d6e4ad2d-f956-4f97-d24f-3976340d4e64"
      },
      "outputs": [
        {
          "output_type": "stream",
          "name": "stdout",
          "text": [
            "Simpul tujuan ditemukan!\n",
            "Jalur terpendek: ['S', 'B', 'D', 'G']\n"
          ]
        },
        {
          "output_type": "execute_result",
          "data": {
            "text/plain": [
              "['S', 'B', 'D', 'G']"
            ]
          },
          "metadata": {},
          "execution_count": 2
        }
      ],
      "source": [
        "from queue import PriorityQueue\n",
        "\n",
        "# Fungsi untuk merekonstruksi jalur\n",
        "def reconstruct_path(came_from, start, goal):\n",
        "    current = goal\n",
        "    path = []\n",
        "\n",
        "    while current != start:\n",
        "        path.append(current)\n",
        "        current = came_from[current]\n",
        "\n",
        "    path.append(start)\n",
        "    path.reverse()\n",
        "    return path\n",
        "\n",
        "# Fungsi algoritma Greedy Best-First Search\n",
        "def greedy_search(graph, start, goal):\n",
        "    frontier = PriorityQueue()  # Antrian prioritas\n",
        "    frontier.put((heuristic[start], start))  # Tambahkan simpul awal\n",
        "    came_from = {}  # Menyimpan jalur\n",
        "    explored = set()  # Menyimpan simpul yang sudah dikunjungi\n",
        "\n",
        "    while not frontier.empty():\n",
        "        _, current_node = frontier.get()  # Ambil simpul dengan nilai heuristik terkecil\n",
        "\n",
        "        if current_node == goal:\n",
        "            print(\"Simpul tujuan ditemukan!\")\n",
        "            path = reconstruct_path(came_from, start, goal)\n",
        "            print(\"Jalur terpendek:\", path)\n",
        "            return path  # Kembalikan jalur yang ditemukan\n",
        "\n",
        "        explored.add(current_node)\n",
        "\n",
        "        for neighbor in graph[current_node]:\n",
        "            if neighbor not in explored:\n",
        "                frontier.put((heuristic[neighbor], neighbor))\n",
        "                came_from[neighbor] = current_node  # Simpan jalur\n",
        "\n",
        "    print(\"Simpul tujuan tidak ditemukan!\")\n",
        "    return None\n",
        "\n",
        "# Daftar heuristik\n",
        "heuristic = {\n",
        "    'S': 6,\n",
        "    'B': 3,\n",
        "    'A': 4,\n",
        "    'C': 3,\n",
        "    'D': 1,\n",
        "    'G': 0\n",
        "}\n",
        "\n",
        "# Graf menggunakan dictionary\n",
        "graph = {\n",
        "    'S': ['A', 'B'],\n",
        "    'A': ['B', 'D'],\n",
        "    'B': ['C', 'D'],\n",
        "    'C': ['G'],\n",
        "    'D': ['G'],\n",
        "}\n",
        "\n",
        "# Titik awal dan tujuan\n",
        "start_node = 'S'\n",
        "goal_node = 'G'\n",
        "\n",
        "# Panggil fungsi greedy search\n",
        "greedy_search(graph, start_node, goal_node)"
      ]
    },
    {
      "cell_type": "code",
      "source": [],
      "metadata": {
        "id": "T_xuwOOg_FNb"
      },
      "execution_count": null,
      "outputs": []
    }
  ]
}